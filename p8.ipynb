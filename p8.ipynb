{
  "nbformat": 4,
  "nbformat_minor": 0,
  "metadata": {
    "colab": {
      "name": "p8.ipynb",
      "provenance": []
    },
    "kernelspec": {
      "name": "python36864bitf498ff391bd141efa82a8b19ebf9c273",
      "display_name": "Python 3.6.8 64-bit"
    },
    "accelerator": "GPU"
  },
  "cells": [
    {
      "cell_type": "code",
      "metadata": {
        "id": "2FjGfkEl9IRd",
        "colab_type": "code",
        "outputId": "9b890284-2bd2-4974-ba97-93f4aab7ef49",
        "colab": {
          "base_uri": "https://localhost:8080/",
          "height": 34
        }
      },
      "source": [
        "import os\n",
        "import cv2\n",
        "import numpy as np\n",
        "from tqdm import tqdm\n",
        "import torch\n",
        "import torch.nn as nn\n",
        "import torch.nn.functional as F\n",
        "import torch.optim as optim\n",
        "\n",
        "REBUILD_DATA = False # set to true to one once, then back to false unless you want to change something in your training data.\n",
        "GOOGLE_COLAB = True\n",
        "\n",
        "if torch.cuda.is_available():\n",
        "    device = torch.device(\"cuda:0\")  # you can continue going on here, like cuda:1 cuda:2....etc. \n",
        "    print(\"Running on the GPU\")\n",
        "else:\n",
        "    device = torch.device(\"cpu\")\n",
        "    print(\"Running on the CPU\")"
      ],
      "execution_count": 1,
      "outputs": [
        {
          "output_type": "stream",
          "text": [
            "Running on the GPU\n"
          ],
          "name": "stdout"
        }
      ]
    },
    {
      "cell_type": "code",
      "metadata": {
        "id": "6HyDgLRAil1x",
        "colab_type": "code",
        "colab": {}
      },
      "source": [
        "class DogsVSCats():\n",
        "    IMG_SIZE = 50\n",
        "    CATS = \"PetImages/Cat\"\n",
        "    DOGS = \"PetImages/Dog\"\n",
        "    TESTING = \"PetImages/Testing\"\n",
        "    LABELS = {CATS: 0, DOGS: 1}\n",
        "    training_data = []\n",
        "\n",
        "    catcount = 0\n",
        "    dogcount = 0\n",
        "\n",
        "    def make_training_data(self):\n",
        "        for label in self.LABELS:\n",
        "            print(label)\n",
        "            for f in tqdm(os.listdir(label)):\n",
        "                if \"jpg\" in f:\n",
        "                    try:\n",
        "                        path = os.path.join(label, f)\n",
        "                        img = cv2.imread(path, cv2.IMREAD_GRAYSCALE)\n",
        "                        img = cv2.resize(img, (self.IMG_SIZE, self.IMG_SIZE))\n",
        "                        self.training_data.append([np.array(img), np.eye(2)[self.LABELS[label]]])  # do something like print(np.eye(2)[1]), just makes one_hot vector\n",
        "    \n",
        "                        if label == self.CATS:\n",
        "                            self.catcount += 1\n",
        "                        elif label == self.DOGS:\n",
        "                            self.dogcount += 1\n",
        "                            \n",
        "                    except Exception as e:\n",
        "                        pass\n",
        "        np.random.shuffle(self.training_data)\n",
        "        np.save(\"training_data.npy\", self.training_data)\n",
        "        print('Cats:',dogsvcats.catcount)\n",
        "        print('Dogs:',dogsvcats.dogcount)\n"
      ],
      "execution_count": 0,
      "outputs": []
    },
    {
      "cell_type": "code",
      "metadata": {
        "id": "S2erS3ecil1z",
        "colab_type": "code",
        "colab": {}
      },
      "source": [
        "class Net(nn.Module):\n",
        "    def __init__(self):\n",
        "        super().__init__() # just run the init of parent class (nn.Module)\n",
        "        self.conv1 = nn.Conv2d(1, 32, 5) # input is 1 image, 32 output channels, 5x5 kernel / window\n",
        "        self.conv2 = nn.Conv2d(32, 64, 5) # input is 32, bc the first layer output 32. Then we say the output will be 64 channels, 5x5 kernel / window\n",
        "        self.conv3 = nn.Conv2d(64, 128, 5)\n",
        "\n",
        "        x = torch.randn(50,50).view(-1,1,50,50)\n",
        "        self._to_linear = None\n",
        "        self.convs(x)\n",
        "\n",
        "        self.fc1 = nn.Linear(self._to_linear, 512) #flattening.\n",
        "        self.fc2 = nn.Linear(512, 2) # 512 in, 2 out bc we're doing 2 classes (dog vs cat).\n",
        "\n",
        "    def convs(self, x):\n",
        "        # max pooling over 2x2\n",
        "        x = F.max_pool2d(F.relu(self.conv1(x)), (2, 2))\n",
        "        x = F.max_pool2d(F.relu(self.conv2(x)), (2, 2))\n",
        "        x = F.max_pool2d(F.relu(self.conv3(x)), (2, 2))\n",
        "\n",
        "        if self._to_linear is None:\n",
        "            self._to_linear = x[0].shape[0]*x[0].shape[1]*x[0].shape[2]\n",
        "        return x\n",
        "\n",
        "    def forward(self, x):\n",
        "        x = self.convs(x)\n",
        "        x = x.view(-1, self._to_linear)  # .view is reshape ... this flattens X before \n",
        "        x = F.relu(self.fc1(x))\n",
        "        x = self.fc2(x) # bc this is our output layer. No activation here.\n",
        "        return F.softmax(x, dim=1)\n",
        "\n"
      ],
      "execution_count": 0,
      "outputs": []
    },
    {
      "cell_type": "code",
      "metadata": {
        "id": "7-GQ06Tvil12",
        "colab_type": "code",
        "colab": {
          "base_uri": "https://localhost:8080/",
          "height": 153
        },
        "outputId": "4f66e0ba-a4d0-460f-97e5-223015c46f0c"
      },
      "source": [
        "import time\n",
        "\n",
        "net = Net().to(device)\n",
        "print(net)\n",
        "\n",
        "if REBUILD_DATA:\n",
        "    dogsvcats = DogsVSCats()\n",
        "    dogsvcats.make_training_data()\n",
        "\n",
        "if GOOGLE_COLAB:\n",
        "  training_data_filename = \"/content/drive/My Drive/Colab Notebooks/learn_pytorch/training_data.npy\" #for running on google colab notebooks\n",
        "  model_log_filename = \"/content/model.log\"\n",
        "else:\n",
        "  training_data_filename = \"training_data.npy\"\n",
        "  model_log_filename = \"model.log\"\n",
        "\n",
        "training_data = np.load(training_data_filename,allow_pickle=True)\n",
        "print(len(training_data))\n",
        "\n",
        "optimizer = optim.Adam(net.parameters(), lr=0.001)\n",
        "loss_function = nn.MSELoss()\n",
        "\n",
        "X = torch.Tensor([i[0] for i in training_data]).view(-1,50,50)\n",
        "X = X/255.0\n",
        "y = torch.Tensor([i[1] for i in training_data])\n",
        "\n",
        "VAL_PCT = 0.1  # lets reserve 10% of our data for validation\n",
        "val_size = int(len(X)*VAL_PCT)\n",
        "\n",
        "train_X = X[:-val_size]\n",
        "train_y = y[:-val_size]\n",
        "\n",
        "test_X = X[-val_size:]\n",
        "test_y = y[-val_size:]\n",
        "\n",
        "BATCH_SIZE = 100\n",
        "EPOCHS = 10"
      ],
      "execution_count": 4,
      "outputs": [
        {
          "output_type": "stream",
          "text": [
            "Net(\n",
            "  (conv1): Conv2d(1, 32, kernel_size=(5, 5), stride=(1, 1))\n",
            "  (conv2): Conv2d(32, 64, kernel_size=(5, 5), stride=(1, 1))\n",
            "  (conv3): Conv2d(64, 128, kernel_size=(5, 5), stride=(1, 1))\n",
            "  (fc1): Linear(in_features=512, out_features=512, bias=True)\n",
            "  (fc2): Linear(in_features=512, out_features=2, bias=True)\n",
            ")\n",
            "24946\n"
          ],
          "name": "stdout"
        }
      ]
    },
    {
      "cell_type": "code",
      "metadata": {
        "id": "2GdfOqa4il16",
        "colab_type": "code",
        "colab": {}
      },
      "source": [
        "def fwd_pass(X,y,train=False):\n",
        "    if train:\n",
        "        net.zero_grad()\n",
        "\n",
        "    outputs = net(X)\n",
        "    matches = [torch.argmax(i) == torch.argmax(j) for i,j in zip(outputs,y)]\n",
        "    acc = matches.count(True)/len(matches)\n",
        "    loss = loss_function(outputs,y)\n",
        "\n",
        "    if train:\n",
        "        loss.backward()\n",
        "        optimizer.step()\n",
        "\n",
        "\n",
        "    return acc, loss\n",
        "\n",
        "def test(size=32):\n",
        "    X, y = test_X[:size], test_y[:size]\n",
        "    val_acc, val_loss = fwd_pass(X.view(-1, 1, 50, 50).to(device), y.to(device))\n",
        "    return val_acc, val_loss\n",
        "\n",
        "def train(net):\n",
        "    BATCH_SIZE = 100\n",
        "    EPOCHS = 10\n",
        "    with open(model_log_filename,\"a+\") as f:\n",
        "        for epoch in range(EPOCHS):\n",
        "            for i in tqdm(range(0, len(train_X), BATCH_SIZE)): # from 0, to the len of x, stepping BATCH_SIZE at a time. [:50] ..for now just to dev\n",
        "                batch_X = train_X[i:i+BATCH_SIZE].view(-1, 1, 50, 50)\n",
        "                batch_y = train_y[i:i+BATCH_SIZE]\n",
        "\n",
        "                batch_X, batch_y = batch_X.to(device), batch_y.to(device)\n",
        "\n",
        "                acc, loss = fwd_pass(batch_X, batch_y, train=True)\n",
        "                if i % 50 == 0:\n",
        "                  val_acc, val_loss = test(size=100)\n",
        "                  f.write(f\"{MODEL_NAME},{round(float(time.time()),3)},{round(float(acc),2)},{round(float(loss), 4)},{round(float(val_acc),2)},{round(float(val_loss),4)}\\n\")\n",
        "\n"
      ],
      "execution_count": 0,
      "outputs": []
    },
    {
      "cell_type": "code",
      "metadata": {
        "id": "3zCnzSAaATZU",
        "colab_type": "code",
        "outputId": "308be227-3b94-480f-eb95-f3e0be77e785",
        "colab": {
          "base_uri": "https://localhost:8080/",
          "height": 187
        }
      },
      "source": [
        "MODEL_NAME = f\"model-{int(time.time())}\"\n",
        "last_model_name = MODEL_NAME\n",
        "train(net)"
      ],
      "execution_count": 14,
      "outputs": [
        {
          "output_type": "stream",
          "text": [
            "100%|██████████| 225/225 [00:05<00:00, 39.08it/s]\n",
            "100%|██████████| 225/225 [00:05<00:00, 39.22it/s]\n",
            "100%|██████████| 225/225 [00:05<00:00, 38.98it/s]\n",
            "100%|██████████| 225/225 [00:05<00:00, 39.17it/s]\n",
            "100%|██████████| 225/225 [00:05<00:00, 38.97it/s]\n",
            "100%|██████████| 225/225 [00:05<00:00, 39.13it/s]\n",
            "100%|██████████| 225/225 [00:05<00:00, 38.82it/s]\n",
            "100%|██████████| 225/225 [00:05<00:00, 39.07it/s]\n",
            "100%|██████████| 225/225 [00:05<00:00, 38.75it/s]\n",
            "100%|██████████| 225/225 [00:05<00:00, 38.46it/s]\n"
          ],
          "name": "stderr"
        }
      ]
    },
    {
      "cell_type": "code",
      "metadata": {
        "id": "-ciHQFOXil2D",
        "colab_type": "code",
        "colab": {
          "base_uri": "https://localhost:8080/",
          "height": 265
        },
        "outputId": "36097eec-af54-44d2-83d2-5b6aa1bb861a"
      },
      "source": [
        "import matplotlib.pyplot as plt\n",
        "from matplotlib import style\n",
        "\n",
        "style.use(\"ggplot\")\n",
        "model_name = last_model_name\n",
        "\n",
        "def create_acc_loss_graph(model_name):\n",
        "    contents = open(model_log_filename,\"r\").read().split(\"\\n\")\n",
        "\n",
        "    times = []\n",
        "    accuracies = []\n",
        "    losses = []\n",
        "\n",
        "    val_accs = []\n",
        "    val_losses = []\n",
        "\n",
        "    for c in contents:\n",
        "        if model_name in c:\n",
        "            name, timestamp, acc, loss, val_acc, val_loss = c.split(\",\")\n",
        "            times.append(timestamp)\n",
        "            accuracies.append(acc)\n",
        "            losses.append(loss)\n",
        "\n",
        "            val_accs.append(float(val_acc))\n",
        "            val_losses.append(float(val_loss))\n",
        "\n",
        "\n",
        "    fog = plt.figure()\n",
        "\n",
        "    ax1 = plt.subplot2grid((2,1),(0,0))\n",
        "    ax2 = plt.subplot2grid((2,1), (1,0), sharex=ax1)\n",
        "\n",
        "\n",
        "    ax1.plot(times, accuracies, label=\"acc\")\n",
        "    ax1.plot(times, val_accs, label=\"val_acc\")\n",
        "    ax1.legend(loc=2)\n",
        "    ax2.plot(times,losses, label=\"loss\")\n",
        "    ax2.plot(times,val_losses, label=\"val_loss\")\n",
        "    ax2.legend(loc=2)\n",
        "    plt.show()\n",
        "\n",
        "create_acc_loss_graph(model_name)\n"
      ],
      "execution_count": 15,
      "outputs": [
        {
          "output_type": "display_data",
          "data": {
            "image/png": "[encoded data removed]",
            "text/plain": [
              "<Figure size 432x288 with 2 Axes>"
            ]
          },
          "metadata": {
            "tags": []
          }
        }
      ]
    },
    {
      "cell_type": "code",
      "metadata": {
        "id": "OZTuoX4wN_Pv",
        "colab_type": "code",
        "colab": {}
      },
      "source": [
        ""
      ],
      "execution_count": 0,
      "outputs": []
    }
  ]
}